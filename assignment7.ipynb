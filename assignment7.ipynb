{
 "cells": [
  {
   "cell_type": "markdown",
   "id": "52a46ebb",
   "metadata": {},
   "source": [
    "Q.1. Create two int type variables, apply addition, subtraction, division and multiplications\n",
    "and store the results in variables. Then print the data in the following format by calling the\n",
    "variables:\n",
    "First variable is __ & second variable is __.\n",
    "Addition: __ + __ = __\n",
    "Subtraction: __ - __ = __\n",
    "Multiplication: __ * __ = __\n",
    "Division: __ / __ = __"
   ]
  },
  {
   "cell_type": "code",
   "execution_count": 1,
   "id": "60512232-360f-4408-b393-4d33a1ca0f5b",
   "metadata": {},
   "outputs": [
    {
     "name": "stdout",
     "output_type": "stream",
     "text": [
      "Addition: a + b = 6\n",
      "subtraction: a - b = 2\n",
      "Multiplication: a * b = 8\n",
      "Division: a / b = 2.0\n"
     ]
    }
   ],
   "source": [
    "#Ans:\n",
    "a=4\n",
    "b=2\n",
    "add=a+b\n",
    "sub=a-b\n",
    "mul=a*b\n",
    "div=a/b\n",
    "print(\"Addition: a + b =\",add)\n",
    "print(\"subtraction: a - b =\",sub)\n",
    "print(\"Multiplication: a * b =\",mul)\n",
    "print(\"Division: a / b =\",div)\n"
   ]
  },
  {
   "cell_type": "markdown",
   "id": "d388e4e8",
   "metadata": {},
   "source": [
    "Q.2. What is the difference between the following operators:\n",
    "(i) ‘/’ & ‘//’\n",
    "(ii) ‘**’ & ‘^’"
   ]
  },
  {
   "cell_type": "markdown",
   "id": "9c94ebf7",
   "metadata": {},
   "source": [
    "Ans:(i) '/' is the division operator, and it returns a float result.\n",
    "'//' is the floor division operator, and it returns the largest integer less than or equal to the division result.\n",
    "\n",
    "(ii) '**' is the exponentiation operator and is used to raise a number to the power of another.\n",
    "'^' is not the exponentiation operator in Python. It is the bitwise XOR operator."
   ]
  },
  {
   "cell_type": "markdown",
   "id": "6a7c2a7a",
   "metadata": {},
   "source": [
    "Q.3. List the logical operators."
   ]
  },
  {
   "cell_type": "markdown",
   "id": "fa0f7a6c",
   "metadata": {},
   "source": [
    "Ans: and: Returns True if both operands are true.\n",
    "or: Returns True if at least one operand is true.\n",
    "not: Returns True if the operand is false, and False if the operand is true."
   ]
  },
  {
   "cell_type": "markdown",
   "id": "e59a46be",
   "metadata": {},
   "source": [
    "Q.4. Explain right shift operator and left shift operator with examples."
   ]
  },
  {
   "cell_type": "markdown",
   "id": "04ec6620",
   "metadata": {},
   "source": [
    "Ans:The right shift operator (>>) in Python is a bitwise operator that shifts the bits of a number to the right by a specified number of positions. The vacant positions on the left are filled with the sign bit.\n",
    "\n",
    " x = 8   # Binary: 0b1000\n",
    "result = x >> 2\n",
    "#After right shifting by 2 positions: 0b10, which is 2 in decimal\n",
    "print(result)  # Output: 2\n",
    "\n",
    "The left shift operator (<<) shifts the bits to the left by a specified number of positions, filling vacant positions on the right with zeros.\n",
    "\n",
    "x = 2   # Binary: 0b10\n",
    "result = x << 3\n",
    "#After left shifting by 3 positions: 0b10000, which is 16 in decimal\n",
    "print(result)  # Output: 16\n",
    "\n"
   ]
  },
  {
   "cell_type": "markdown",
   "id": "dccd4111",
   "metadata": {},
   "source": [
    "Q.5. Create a list containing int type data of length 15. Then write a code to check if 10 is\n",
    "present in the list or not."
   ]
  },
  {
   "cell_type": "code",
   "execution_count": 5,
   "id": "b16da3e1",
   "metadata": {},
   "outputs": [
    {
     "name": "stdout",
     "output_type": "stream",
     "text": [
      "10 is not in nums\n"
     ]
    }
   ],
   "source": [
    "nums=[1,2,3,4,5,6,7,8,9,11,1,2,3,5]\n",
    "if 10 in nums:\n",
    "    print(\"10 is in nums\")\n",
    "else:\n",
    "    print(\"10 is not in nums\")"
   ]
  },
  {
   "cell_type": "code",
   "execution_count": null,
   "id": "ddcacd10",
   "metadata": {},
   "outputs": [],
   "source": []
  }
 ],
 "metadata": {
  "kernelspec": {
   "display_name": "Python 3 (ipykernel)",
   "language": "python",
   "name": "python3"
  },
  "language_info": {
   "codemirror_mode": {
    "name": "ipython",
    "version": 3
   },
   "file_extension": ".py",
   "mimetype": "text/x-python",
   "name": "python",
   "nbconvert_exporter": "python",
   "pygments_lexer": "ipython3",
   "version": "3.9.18"
  }
 },
 "nbformat": 4,
 "nbformat_minor": 5
}
